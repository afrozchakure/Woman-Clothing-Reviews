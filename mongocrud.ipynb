{
 "cells": [
  {
   "cell_type": "code",
   "execution_count": 6,
   "metadata": {},
   "outputs": [
    {
     "name": "stderr",
     "output_type": "stream",
     "text": [
      "2020-09-13T21:07:09.312+0530\tconnected to: mongodb://localhost/\n",
      "2020-09-13T21:07:12.312+0530\t[###########.............] ecommerce.clothingReview\t6.16MB/13.2MB (46.7%)\n",
      "2020-09-13T21:07:13.228+0530\t[########################] ecommerce.clothingReview\t13.2MB/13.2MB (100.0%)\n",
      "2020-09-13T21:07:13.228+0530\t23486 document(s) imported successfully. 0 document(s) failed to import.\n"
     ]
    }
   ],
   "source": [
    "!mongoimport --db ecommerce --collection clothingReview --file csvjson.json --jsonArray\n"
   ]
  },
  {
   "cell_type": "code",
   "execution_count": 7,
   "metadata": {},
   "outputs": [],
   "source": [
    "from pymongo import MongoClient\n",
    "import pprint\n",
    "client = MongoClient('localhost',27017)\n"
   ]
  },
  {
   "cell_type": "code",
   "execution_count": 8,
   "metadata": {},
   "outputs": [],
   "source": [
    "db = client.ecommerce\n"
   ]
  },
  {
   "cell_type": "code",
   "execution_count": 9,
   "metadata": {},
   "outputs": [],
   "source": [
    "col = db.clothingReview"
   ]
  },
  {
   "cell_type": "code",
   "execution_count": 12,
   "metadata": {},
   "outputs": [
    {
     "name": "stdout",
     "output_type": "stream",
     "text": [
      "[{'': 0,\n",
      "  'Age': 33,\n",
      "  'Class Name': 'Intimates',\n",
      "  'Clothing ID': 767,\n",
      "  'Department Name': 'Intimate',\n",
      "  'Division Name': 'Initmates',\n",
      "  'Positive Feedback Count': 0,\n",
      "  'Rating': 4,\n",
      "  'Recommended IND': 1,\n",
      "  'Review Text': 'Absolutely wonderful - silky and sexy and comfortable',\n",
      "  'Title': '',\n",
      "  '_id': ObjectId('5f5e3ca759103b13a9add3e6')},\n",
      " {'': 3,\n",
      "  'Age': 50,\n",
      "  'Class Name': 'Pants',\n",
      "  'Clothing ID': 1049,\n",
      "  'Department Name': 'Bottoms',\n",
      "  'Division Name': 'General Petite',\n",
      "  'Positive Feedback Count': 0,\n",
      "  'Rating': 5,\n",
      "  'Recommended IND': 1,\n",
      "  'Review Text': \"I love, love, love this jumpsuit. it's fun, flirty, and \"\n",
      "                 'fabulous! every time i wear it, i get nothing but great '\n",
      "                 'compliments!',\n",
      "  'Title': 'My favorite buy!',\n",
      "  '_id': ObjectId('5f5e3ca759103b13a9add3e7')},\n",
      " {'': 1,\n",
      "  'Age': 34,\n",
      "  'Class Name': 'Dresses',\n",
      "  'Clothing ID': 1080,\n",
      "  'Department Name': 'Dresses',\n",
      "  'Division Name': 'General',\n",
      "  'Positive Feedback Count': 4,\n",
      "  'Rating': 5,\n",
      "  'Recommended IND': 1,\n",
      "  'Review Text': \"Love this dress!  it's sooo pretty.  i happened to find it \"\n",
      "                 \"in a store, and i'm glad i did bc i never would have ordered \"\n",
      "                 'it online bc it\\'s petite.  i bought a petite and am 5\\'8\".  '\n",
      "                 'i love the length on me- hits just a little below the knee.  '\n",
      "                 'would definitely be a true midi on someone who is truly '\n",
      "                 'petite.',\n",
      "  'Title': '',\n",
      "  '_id': ObjectId('5f5e3ca759103b13a9add3e8')},\n",
      " {'': 2,\n",
      "  'Age': 60,\n",
      "  'Class Name': 'Dresses',\n",
      "  'Clothing ID': 1077,\n",
      "  'Department Name': 'Dresses',\n",
      "  'Division Name': 'General',\n",
      "  'Positive Feedback Count': 0,\n",
      "  'Rating': 3,\n",
      "  'Recommended IND': 0,\n",
      "  'Review Text': 'I had such high hopes for this dress and really wanted it to '\n",
      "                 'work for me. i initially ordered the petite small (my usual '\n",
      "                 'size) but i found this to be outrageously small. so small in '\n",
      "                 'fact that i could not zip it up! i reordered it in petite '\n",
      "                 'medium, which was just ok. overall, the top half was '\n",
      "                 'comfortable and fit nicely, but the bottom half had a very '\n",
      "                 'tight under layer and several somewhat cheap (net) over '\n",
      "                 'layers. imo, a major design flaw was the net over layer sewn '\n",
      "                 'directly into the zipper - it c',\n",
      "  'Title': 'Some major design flaws',\n",
      "  '_id': ObjectId('5f5e3ca759103b13a9add3e9')},\n",
      " {'': 4,\n",
      "  'Age': 47,\n",
      "  'Class Name': 'Blouses',\n",
      "  'Clothing ID': 847,\n",
      "  'Department Name': 'Tops',\n",
      "  'Division Name': 'General',\n",
      "  'Positive Feedback Count': 6,\n",
      "  'Rating': 5,\n",
      "  'Recommended IND': 1,\n",
      "  'Review Text': 'This shirt is very flattering to all due to the adjustable '\n",
      "                 'front tie. it is the perfect length to wear with leggings '\n",
      "                 'and it is sleeveless so it pairs well with any cardigan. '\n",
      "                 'love this shirt!!!',\n",
      "  'Title': 'Flattering shirt',\n",
      "  '_id': ObjectId('5f5e3ca759103b13a9add3ea')},\n",
      " {'': 6,\n",
      "  'Age': 39,\n",
      "  'Class Name': 'Knits',\n",
      "  'Clothing ID': 858,\n",
      "  'Department Name': 'Tops',\n",
      "  'Division Name': 'General Petite',\n",
      "  'Positive Feedback Count': 1,\n",
      "  'Rating': 5,\n",
      "  'Recommended IND': 1,\n",
      "  'Review Text': 'I aded this in my basket at hte last mintue to see what it '\n",
      "                 'would look like in person. (store pick up). i went with teh '\n",
      "                 'darkler color only because i am so pale :-) hte color is '\n",
      "                 'really gorgeous, and turns out it mathced everythiing i was '\n",
      "                 'trying on with it prefectly. it is a little baggy on me and '\n",
      "                 'hte xs is hte msallet size (bummer, no petite). i decided to '\n",
      "                 'jkeep it though, because as i said, it matvehd everything. '\n",
      "                 'my ejans, pants, and the 3 skirts i waas trying on (of which '\n",
      "                 'i ]kept all ) oops.',\n",
      "  'Title': 'Cagrcoal shimmer fun',\n",
      "  '_id': ObjectId('5f5e3ca759103b13a9add3eb')},\n",
      " {'': 7,\n",
      "  'Age': 39,\n",
      "  'Class Name': 'Knits',\n",
      "  'Clothing ID': 858,\n",
      "  'Department Name': 'Tops',\n",
      "  'Division Name': 'General Petite',\n",
      "  'Positive Feedback Count': 4,\n",
      "  'Rating': 4,\n",
      "  'Recommended IND': 1,\n",
      "  'Review Text': 'I ordered this in carbon for store pick up, and had a ton of '\n",
      "                 'stuff (as always) to try on and used this top to pair '\n",
      "                 '(skirts and pants). everything went with it. the color is '\n",
      "                 'really nice charcoal with shimmer, and went well with pencil '\n",
      "                 'skirts, flare pants, etc. my only compaint is it is a bit '\n",
      "                 \"big, sleeves are long and it doesn't go in petite. also a \"\n",
      "                 'bit loose for me, but no xxs... so i kept it and wil ldecide '\n",
      "                 'later since the light color is already sold out in hte '\n",
      "                 'smallest size...',\n",
      "  'Title': 'Shimmer, surprisingly goes with lots',\n",
      "  '_id': ObjectId('5f5e3ca759103b13a9add3ec')},\n",
      " {'': 5,\n",
      "  'Age': 49,\n",
      "  'Class Name': 'Dresses',\n",
      "  'Clothing ID': 1080,\n",
      "  'Department Name': 'Dresses',\n",
      "  'Division Name': 'General',\n",
      "  'Positive Feedback Count': 4,\n",
      "  'Rating': 2,\n",
      "  'Recommended IND': 0,\n",
      "  'Review Text': 'I love tracy reese dresses, but this one is not for the very '\n",
      "                 'petite. i am just under 5 feet tall and usually wear a 0p in '\n",
      "                 'this brand. this dress was very pretty out of the package '\n",
      "                 'but its a lot of dress. the skirt is long and very full so '\n",
      "                 'it overwhelmed my small frame. not a stranger to '\n",
      "                 'alterations, shortening and narrowing the skirt would take '\n",
      "                 'away from the embellishment of the garment. i love the color '\n",
      "                 'and the idea of the style but it just did not work on me. i '\n",
      "                 'returned this dress.',\n",
      "  'Title': 'Not for the very petite',\n",
      "  '_id': ObjectId('5f5e3ca759103b13a9add3ed')},\n",
      " {'': 8,\n",
      "  'Age': 24,\n",
      "  'Class Name': 'Dresses',\n",
      "  'Clothing ID': 1077,\n",
      "  'Department Name': 'Dresses',\n",
      "  'Division Name': 'General',\n",
      "  'Positive Feedback Count': 0,\n",
      "  'Rating': 5,\n",
      "  'Recommended IND': 1,\n",
      "  'Review Text': 'I love this dress. i usually get an xs but it runs a little '\n",
      "                 'snug in bust so i ordered up a size. very flattering and '\n",
      "                 'feminine with the usual retailer flair for style.',\n",
      "  'Title': 'Flattering',\n",
      "  '_id': ObjectId('5f5e3ca759103b13a9add3ee')},\n",
      " {'': 9,\n",
      "  'Age': 34,\n",
      "  'Class Name': 'Dresses',\n",
      "  'Clothing ID': 1077,\n",
      "  'Department Name': 'Dresses',\n",
      "  'Division Name': 'General',\n",
      "  'Positive Feedback Count': 0,\n",
      "  'Rating': 5,\n",
      "  'Recommended IND': 1,\n",
      "  'Review Text': 'I\\'m 5\"5\\' and 125 lbs. i ordered the s petite to make sure '\n",
      "                 \"the length wasn't too long. i typically wear an xs regular \"\n",
      "                 \"in retailer dresses. if you're less busty (34b cup or \"\n",
      "                 'smaller), a s petite will fit you perfectly (snug, but not '\n",
      "                 'tight). i love that i could dress it up for a party, or down '\n",
      "                 'for work. i love that the tulle is longer then the fabric '\n",
      "                 'underneath.',\n",
      "  'Title': 'Such a fun dress!',\n",
      "  '_id': ObjectId('5f5e3ca759103b13a9add3ef')}]\n"
     ]
    }
   ],
   "source": [
    "printAll = col.find().limit(10)\n",
    "pprint.pprint(list(printAll))"
   ]
  },
  {
   "cell_type": "code",
   "execution_count": 18,
   "metadata": {},
   "outputs": [
    {
     "name": "stdout",
     "output_type": "stream",
     "text": [
      "<pymongo.results.InsertOneResult object at 0x00000121D86A3F88>\n"
     ]
    }
   ],
   "source": [
    "pprint.pprint(col.insert_one(\n",
    "   {\n",
    "       'Age': 21,\n",
    "  'Class Name': 'Dresses',\n",
    "  'Clothing ID': 1077,\n",
    "  'Department Name': 'Dresses',\n",
    "  'Division Name': 'Tops',\n",
    "  'Positive Feedback Count': 5,\n",
    "  'Rating': 5,\n",
    "  'Recommended IND': 1,\n",
    "  'Review Text': 'I love this dress. i usually get an xs but it runs a little '\n",
    "                 'snug in bust so i ordered up a size. very flattering and '\n",
    "                 'feminine with the usual retailer flair for style.',\n",
    "  'Title': 'Awesome',\n",
    "   }\n",
    "))"
   ]
  },
  {
   "cell_type": "code",
   "execution_count": 25,
   "metadata": {
    "scrolled": true
   },
   "outputs": [
    {
     "name": "stdout",
     "output_type": "stream",
     "text": [
      "<pymongo.results.InsertManyResult object at 0x00000121D86FD3C8>\n"
     ]
    }
   ],
   "source": [
    "pprint.pprint(col.insert_many(\n",
    "[\n",
    "    {\n",
    "  'Age': 39,\n",
    "  'Class Name': 'Knits',\n",
    "  'Clothing ID': 858,\n",
    "  'Department Name': 'Tops',\n",
    "  'Division Name': 'General Petite',\n",
    "  'Positive Feedback Count': 4,\n",
    "  'Rating': 4,\n",
    "  'Recommended IND': 1,\n",
    "  'Review Text': 'I ordered this in carbon for store pick up, and had a ton of stuff (as always) to try on and used this top to pair (skirts and pants). everything went with it. the color is really nice charcoal with shimmer, and went well with pencil skirts, flare pants, etc. my only compaint is it is a bit big, sleeves are long and it doesnt go in petite. also a bit loose for me, but no xxs... so i kept it and wil ldecide later since the light color is already sold out in hte smallest size...',\n",
    "  'Title': 'Shimmer, surprisingly goes with lots'},\n",
    " {\n",
    "  'Age': 49,\n",
    "  'Class Name': 'Dresses',\n",
    "  'Clothing ID': 1080,\n",
    "  'Department Name': 'Dresses',\n",
    "  'Division Name': 'General',\n",
    "  'Positive Feedback Count': 4,\n",
    "  'Rating': 2,\n",
    "  'Recommended IND': 1,\n",
    "  'Review Text': 'I ordered this in carbon for store pick up, and had a ton of stuff (as always) to try on and used this top to pair (skirts and pants). everything went with it. the color is really nice charcoal with shimmer, and went well with pencil skirts, flare pants, etc. my only compaint is it is a bit big, sleeves are long and it doesnt go in petite. also a bit loose for me, but no xxs... so i kept it and wil ldecide later since the light color is already sold out in hte smallest size...',\n",
    "  'Title': ' for the very petite'\n",
    "  }\n",
    "]\n",
    "))"
   ]
  },
  {
   "cell_type": "code",
   "execution_count": 28,
   "metadata": {},
   "outputs": [
    {
     "name": "stdout",
     "output_type": "stream",
     "text": [
      "{'_id': ObjectId('5f5e3ca759103b13a9add3eb'), '': 6, 'Clothing ID': 858, 'Age': 39, 'Title': 'Cagrcoal shimmer fun', 'Review Text': 'I aded this in my basket at hte last mintue to see what it would look like in person. (store pick up). i went with teh darkler color only because i am so pale :-) hte color is really gorgeous, and turns out it mathced everythiing i was trying on with it prefectly. it is a little baggy on me and hte xs is hte msallet size (bummer, no petite). i decided to jkeep it though, because as i said, it matvehd everything. my ejans, pants, and the 3 skirts i waas trying on (of which i ]kept all ) oops.', 'Rating': 5, 'Recommended IND': 1, 'Positive Feedback Count': 1, 'Division Name': 'General Petite', 'Department Name': 'Tops', 'Class Name': 'Knits'}\n",
      "{'_id': ObjectId('5f5e3ca759103b13a9add3ec'), '': 7, 'Clothing ID': 858, 'Age': 39, 'Title': 'Shimmer, surprisingly goes with lots', 'Review Text': \"I ordered this in carbon for store pick up, and had a ton of stuff (as always) to try on and used this top to pair (skirts and pants). everything went with it. the color is really nice charcoal with shimmer, and went well with pencil skirts, flare pants, etc. my only compaint is it is a bit big, sleeves are long and it doesn't go in petite. also a bit loose for me, but no xxs... so i kept it and wil ldecide later since the light color is already sold out in hte smallest size...\", 'Rating': 4, 'Recommended IND': 1, 'Positive Feedback Count': 4, 'Division Name': 'General Petite', 'Department Name': 'Tops', 'Class Name': 'Knits'}\n",
      "{'_id': ObjectId('5f5e3ca759103b13a9add40d'), '': 40, 'Clothing ID': 862, 'Age': 47, 'Title': '', 'Review Text': 'Pretty and unique. great with jeans or i have worn it to work with slacks and heels. the colors, print, and embroidery are lovely. reasonably priced!', 'Rating': 4, 'Recommended IND': 1, 'Positive Feedback Count': 1, 'Division Name': 'General', 'Department Name': 'Tops', 'Class Name': 'Knits'}\n",
      "{'_id': ObjectId('5f5e3ca759103b13a9add40e'), '': 39, 'Clothing ID': 862, 'Age': 59, 'Title': '', 'Review Text': 'Great casual top with flare. looks cute with grey pilcro stet jeans. flattering with peplum in back. nice cut for shoulders and neckline.', 'Rating': 5, 'Recommended IND': 1, 'Positive Feedback Count': 0, 'Division Name': 'General', 'Department Name': 'Tops', 'Class Name': 'Knits'}\n",
      "{'_id': ObjectId('5f5e3ca759103b13a9add410'), '': 44, 'Clothing ID': 862, 'Age': 48, 'Title': 'Beautiful!', 'Review Text': 'Tried this on today at my local retailer and had to have it. it is so comfortable and flattering. it\\'s too bad the picture online has the model tucking it into the skirt because you can\\'t see the ruching across the front. a little dressier alternative to a plain tee and reasonably priced for retailer. 5\\'8\"\" and i generally wear a 6, the small fit well. will probably be back for the black!', 'Rating': 5, 'Recommended IND': 1, 'Positive Feedback Count': 9, 'Division Name': 'General', 'Department Name': 'Tops', 'Class Name': 'Knits'}\n"
     ]
    }
   ],
   "source": [
    "findKnits =col.find({'Class Name': 'Knits'}).limit(5)\n",
    "\n",
    "for doc in findKnits:\n",
    "    print(doc)"
   ]
  },
  {
   "cell_type": "code",
   "execution_count": 35,
   "metadata": {},
   "outputs": [
    {
     "data": {
      "text/plain": [
       "{'_id': ObjectId('5f5e3ca759103b13a9add3e6'),\n",
       " '': 0,\n",
       " 'Clothing ID': 767,\n",
       " 'Age': 33,\n",
       " 'Title': '',\n",
       " 'Review Text': 'Absolutely wonderful - silky and sexy and comfortable',\n",
       " 'Rating': 4,\n",
       " 'Recommended IND': 1,\n",
       " 'Positive Feedback Count': 0,\n",
       " 'Division Name': 'Initmates',\n",
       " 'Department Name': 'Intimate',\n",
       " 'Class Name': 'Intimates'}"
      ]
     },
     "execution_count": 35,
     "metadata": {},
     "output_type": "execute_result"
    }
   ],
   "source": [
    "col.find_one()"
   ]
  },
  {
   "cell_type": "code",
   "execution_count": 36,
   "metadata": {},
   "outputs": [
    {
     "data": {
      "text/plain": [
       "<pymongo.results.UpdateResult at 0x121d8703908>"
      ]
     },
     "execution_count": 36,
     "metadata": {},
     "output_type": "execute_result"
    }
   ],
   "source": [
    "col.replace_one({'Department Name': 'Tops'}, {'Department Name': 'Dresses'})"
   ]
  },
  {
   "cell_type": "code",
   "execution_count": 33,
   "metadata": {},
   "outputs": [
    {
     "name": "stdout",
     "output_type": "stream",
     "text": [
      "<pymongo.results.UpdateResult object at 0x00000121D8707CC8>\n"
     ]
    }
   ],
   "source": [
    "updateKnite =  col.update_one({C}, {\"$set\":{'Class Name': 'Dresses'}})\n",
    "\n",
    "print(updateKnite)"
   ]
  },
  {
   "cell_type": "code",
   "execution_count": 34,
   "metadata": {},
   "outputs": [
    {
     "data": {
      "text/plain": [
       "<pymongo.results.DeleteResult at 0x121d8707348>"
      ]
     },
     "execution_count": 34,
     "metadata": {},
     "output_type": "execute_result"
    }
   ],
   "source": [
    "col.delete_one({'Class Name': 'Knits'})"
   ]
  },
  {
   "cell_type": "code",
   "execution_count": 50,
   "metadata": {},
   "outputs": [
    {
     "name": "stdout",
     "output_type": "stream",
     "text": [
      "sum of product having rating greater than 3 are 18217\n"
     ]
    }
   ],
   "source": [
    "agre=[{'$match':{'Rating': {'$gt':3}}},{'$group':{ '_id' : 0, 'sum':{ '$sum':1}}}]\n",
    "\n",
    "ratingGreaterThanThree = list(col.aggregate(agre));\n",
    "print(\"sum of product having rating greater than 3 are {}\".format(ratingGreaterThanThree[0]['sum']))"
   ]
  }
 ],
 "metadata": {
  "kernelspec": {
   "display_name": "Python 3",
   "language": "python",
   "name": "python3"
  },
  "language_info": {
   "codemirror_mode": {
    "name": "ipython",
    "version": 3
   },
   "file_extension": ".py",
   "mimetype": "text/x-python",
   "name": "python",
   "nbconvert_exporter": "python",
   "pygments_lexer": "ipython3",
   "version": "3.7.7"
  }
 },
 "nbformat": 4,
 "nbformat_minor": 4
}
